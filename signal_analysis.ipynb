{
 "cells": [
  {
   "cell_type": "code",
   "execution_count": 27,
   "metadata": {},
   "outputs": [],
   "source": [
    "import pandas as pd\n",
    "import numpy as np\n",
    "import matplotlib.pyplot as plt\n",
    "%matplotlib inline\n",
    "plt.style.use('ggplot')"
   ]
  },
  {
   "cell_type": "code",
   "execution_count": 20,
   "metadata": {},
   "outputs": [],
   "source": [
    "df = pd.read_csv(\"Data/sample_10s.csv\", index_col=0)"
   ]
  },
  {
   "cell_type": "code",
   "execution_count": 21,
   "metadata": {},
   "outputs": [
    {
     "data": {
      "text/html": [
       "<div>\n",
       "<style>\n",
       "    .dataframe thead tr:only-child th {\n",
       "        text-align: right;\n",
       "    }\n",
       "\n",
       "    .dataframe thead th {\n",
       "        text-align: left;\n",
       "    }\n",
       "\n",
       "    .dataframe tbody tr th {\n",
       "        vertical-align: top;\n",
       "    }\n",
       "</style>\n",
       "<table border=\"1\" class=\"dataframe\">\n",
       "  <thead>\n",
       "    <tr style=\"text-align: right;\">\n",
       "      <th></th>\n",
       "      <th>timestamp</th>\n",
       "      <th>0</th>\n",
       "      <th>1</th>\n",
       "      <th>2</th>\n",
       "      <th>3</th>\n",
       "      <th>4</th>\n",
       "      <th>5</th>\n",
       "      <th>6</th>\n",
       "      <th>7</th>\n",
       "    </tr>\n",
       "  </thead>\n",
       "  <tbody>\n",
       "    <tr>\n",
       "      <th>0</th>\n",
       "      <td>10784.901409</td>\n",
       "      <td>-187500.015625</td>\n",
       "      <td>-34150.917969</td>\n",
       "      <td>-29071.685547</td>\n",
       "      <td>14976.808594</td>\n",
       "      <td>-16101.079102</td>\n",
       "      <td>-187500.015625</td>\n",
       "      <td>-26448.171875</td>\n",
       "      <td>-23018.251953</td>\n",
       "    </tr>\n",
       "    <tr>\n",
       "      <th>1</th>\n",
       "      <td>10784.901550</td>\n",
       "      <td>-187500.015625</td>\n",
       "      <td>-34272.042969</td>\n",
       "      <td>-28863.947266</td>\n",
       "      <td>14796.564453</td>\n",
       "      <td>-16034.381836</td>\n",
       "      <td>-187500.015625</td>\n",
       "      <td>-26193.785156</td>\n",
       "      <td>-22880.027344</td>\n",
       "    </tr>\n",
       "    <tr>\n",
       "      <th>2</th>\n",
       "      <td>10784.901667</td>\n",
       "      <td>-187500.015625</td>\n",
       "      <td>-34194.750000</td>\n",
       "      <td>-28562.087891</td>\n",
       "      <td>14160.523438</td>\n",
       "      <td>-15785.450195</td>\n",
       "      <td>-187500.015625</td>\n",
       "      <td>-25887.902344</td>\n",
       "      <td>-22600.050781</td>\n",
       "    </tr>\n",
       "    <tr>\n",
       "      <th>3</th>\n",
       "      <td>10784.901781</td>\n",
       "      <td>-187500.015625</td>\n",
       "      <td>-34021.949219</td>\n",
       "      <td>-28577.375000</td>\n",
       "      <td>13940.670898</td>\n",
       "      <td>-15695.461914</td>\n",
       "      <td>-187500.015625</td>\n",
       "      <td>-25945.658203</td>\n",
       "      <td>-22559.146484</td>\n",
       "    </tr>\n",
       "    <tr>\n",
       "      <th>4</th>\n",
       "      <td>10784.901893</td>\n",
       "      <td>-187500.015625</td>\n",
       "      <td>-33979.859375</td>\n",
       "      <td>-28879.191406</td>\n",
       "      <td>14437.304688</td>\n",
       "      <td>-15872.509766</td>\n",
       "      <td>-187500.015625</td>\n",
       "      <td>-26271.570312</td>\n",
       "      <td>-22795.425781</td>\n",
       "    </tr>\n",
       "  </tbody>\n",
       "</table>\n",
       "</div>"
      ],
      "text/plain": [
       "      timestamp              0             1             2             3  \\\n",
       "0  10784.901409 -187500.015625 -34150.917969 -29071.685547  14976.808594   \n",
       "1  10784.901550 -187500.015625 -34272.042969 -28863.947266  14796.564453   \n",
       "2  10784.901667 -187500.015625 -34194.750000 -28562.087891  14160.523438   \n",
       "3  10784.901781 -187500.015625 -34021.949219 -28577.375000  13940.670898   \n",
       "4  10784.901893 -187500.015625 -33979.859375 -28879.191406  14437.304688   \n",
       "\n",
       "              4              5             6             7  \n",
       "0 -16101.079102 -187500.015625 -26448.171875 -23018.251953  \n",
       "1 -16034.381836 -187500.015625 -26193.785156 -22880.027344  \n",
       "2 -15785.450195 -187500.015625 -25887.902344 -22600.050781  \n",
       "3 -15695.461914 -187500.015625 -25945.658203 -22559.146484  \n",
       "4 -15872.509766 -187500.015625 -26271.570312 -22795.425781  "
      ]
     },
     "execution_count": 21,
     "metadata": {},
     "output_type": "execute_result"
    }
   ],
   "source": [
    "df.head()"
   ]
  },
  {
   "cell_type": "code",
   "execution_count": 28,
   "metadata": {},
   "outputs": [],
   "source": [
    "data = df.as_matrix()"
   ]
  },
  {
   "cell_type": "code",
   "execution_count": 32,
   "metadata": {},
   "outputs": [
    {
     "data": {
      "text/plain": [
       "<matplotlib.axes._subplots.AxesSubplot at 0x7f4999b15a58>"
      ]
     },
     "execution_count": 32,
     "metadata": {},
     "output_type": "execute_result"
    },
    {
     "data": {
      "image/png": "[encoded data removed]",
      "text/plain": [
       "<matplotlib.figure.Figure at 0x7f4999aaf780>"
      ]
     },
     "metadata": {},
     "output_type": "display_data"
    }
   ],
   "source": [
    "df['1'].plot()"
   ]
  },
  {
   "cell_type": "code",
   "execution_count": 30,
   "metadata": {},
   "outputs": [
    {
     "data": {
      "text/plain": [
       "array([  10784.90155005, -187500.015625  ,  -34272.04296875,\n",
       "        -28863.94726562,   14796.56445312,  -16034.38183594,\n",
       "       -187500.015625  ,  -26193.78515625,  -22880.02734375])"
      ]
     },
     "execution_count": 30,
     "metadata": {},
     "output_type": "execute_result"
    }
   ],
   "source": [
    "data[:][1]"
   ]
  },
  {
   "cell_type": "code",
   "execution_count": 31,
   "metadata": {},
   "outputs": [
    {
     "data": {
      "text/plain": [
       "[<matplotlib.lines.Line2D at 0x7f4999b009e8>]"
      ]
     },
     "execution_count": 31,
     "metadata": {},
     "output_type": "execute_result"
    },
    {
     "data": {
      "image/png": "[encoded data removed]",
      "text/plain": [
       "<matplotlib.figure.Figure at 0x7f4999b3c940>"
      ]
     },
     "metadata": {},
     "output_type": "display_data"
    }
   ],
   "source": [
    "plt.plot(data[:][1])"
   ]
  },
  {
   "cell_type": "code",
   "execution_count": null,
   "metadata": {},
   "outputs": [],
   "source": []
  }
 ],
 "metadata": {
  "kernelspec": {
   "display_name": "Python 3",
   "language": "python",
   "name": "python3"
  },
  "language_info": {
   "codemirror_mode": {
    "name": "ipython",
    "version": 3
   },
   "file_extension": ".py",
   "mimetype": "text/x-python",
   "name": "python",
   "nbconvert_exporter": "python",
   "pygments_lexer": "ipython3",
   "version": "3.5.2"
  }
 },
 "nbformat": 4,
 "nbformat_minor": 2
}
