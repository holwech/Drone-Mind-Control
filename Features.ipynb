{
 "cells": [
  {
   "cell_type": "code",
   "execution_count": 1,
   "metadata": {},
   "outputs": [
    {
     "name": "stderr",
     "output_type": "stream",
     "text": [
      "/usr/local/lib/python3.5/dist-packages/sklearn/cross_validation.py:41: DeprecationWarning: This module was deprecated in version 0.18 in favor of the model_selection module into which all the refactored classes and functions are moved. Also note that the interface of the new CV iterators are different from that of this module. This module will be removed in 0.20.\n",
      "  \"This module will be removed in 0.20.\", DeprecationWarning)\n"
     ]
    }
   ],
   "source": [
    "import pandas as pd\n",
    "import numpy as np\n",
    "import matplotlib.pyplot as plt\n",
    "import pysa.emd as emddev\n",
    "import pysa.eemd as eemddev\n",
    "import pysa.visualization as plotter\n",
    "import pysa.utils as utils\n",
    "import pysa.nhht as nhht\n",
    "import copy\n",
    "from multiprocessing import Pool\n",
    "from timeit import default_timer as timer\n",
    "\n",
    "from scipy import signal\n",
    "import scipy\n",
    "import os\n",
    "from scipy import fft\n",
    "from sklearn import svm\n",
    "from sklearn.model_selection import cross_val_score\n",
    "from sklearn.preprocessing import StandardScaler\n",
    "from sklearn.pipeline import make_pipeline\n",
    "from sklearn.metrics import accuracy_score\n",
    "from sklearn import preprocessing\n",
    "from sklearn.model_selection import GridSearchCV\n",
    "from sklearn.metrics import classification_report\n",
    "from sklearn.cross_validation import train_test_split\n",
    "%matplotlib inline\n",
    "test = 1\n",
    "plt.rcParams['figure.figsize'] = (12,8)"
   ]
  },
  {
   "cell_type": "code",
   "execution_count": 2,
   "metadata": {},
   "outputs": [],
   "source": [
    "def prepare_erps(erps, err_idx):\n",
    "    new_erps = []\n",
    "    for i, erp in enumerate(erps):\n",
    "        new_erps += [prepare_erp(erp, i, err_idx)]\n",
    "    return new_erps"
   ]
  },
  {
   "cell_type": "code",
   "execution_count": 3,
   "metadata": {},
   "outputs": [],
   "source": [
    "def prepare_erp(erp, i, err_idx):\n",
    "    new_erp = copy.deepcopy(erp)\n",
    "    new_erp = np.delete(new_erp, err_idx, 0)\n",
    "    new_erp = new_erp.reshape((new_erp.shape[0], new_erp.shape[1] * new_erp.shape[2]))\n",
    "    return new_erp"
   ]
  },
  {
   "cell_type": "code",
   "execution_count": 64,
   "metadata": {},
   "outputs": [],
   "source": [
    "def create_feature_vector(features, i):\n",
    "    feat_vec = np.full((features[0].shape[0], 1), i)\n",
    "    for feature in features:\n",
    "        feat_vec = np.hstack((feature, feat_vec))\n",
    "    return feat_vec"
   ]
  },
  {
   "cell_type": "code",
   "execution_count": 55,
   "metadata": {},
   "outputs": [],
   "source": [
    "def ERP(amplitudes, divider=2, initial=0, fs=250):\n",
    "    \n",
    "    a = np.square(amplitudes)\n",
    "    # Calculate mean before event\n",
    "    r_i = a[:, (initial * fs):(divider * fs)].mean(axis=1)\n",
    "    a_j = np.zeros(a[:, (divider * fs):].shape)\n",
    "    for r, row in enumerate(a[:, (divider * fs):]):\n",
    "        a_j[r, :] = [100 * ((a_j_t - r_i[r]) / r_i[r]) for a_j_t in row]\n",
    "    # Calculate mean after event\n",
    "    #a_j = a[:, (divider * fs):-(cutoff * fs)].mean(axis=1)\n",
    "    # Calculate event related potential for given amplitudes\n",
    "    #erp =  np.mean(100 * ((a_j - r_i) / r_i))\n",
    "    erp = a_j.mean(axis=1)\n",
    "    \n",
    "    return erp"
   ]
  },
  {
   "cell_type": "code",
   "execution_count": 53,
   "metadata": {},
   "outputs": [],
   "source": [
    "def calculate_ERP(amplitudes):\n",
    "    erps = np.zeros((amplitudes.shape[0], amplitudes.shape[1], amplitudes.shape[2]))\n",
    "    for m, measurement in enumerate(amplitudes):\n",
    "        for s, sensor in enumerate(measurement):\n",
    "            erps[m,s,:] = ERP(sensor)\n",
    "    return erps"
   ]
  },
  {
   "cell_type": "code",
   "execution_count": 70,
   "metadata": {},
   "outputs": [],
   "source": [
    "path = \"exp_data/joachim/\""
   ]
  },
  {
   "cell_type": "code",
   "execution_count": 71,
   "metadata": {},
   "outputs": [],
   "source": [
    "fd1 = np.load(path + 'fd1.npy')\n",
    "fd2 = np.load(path + 'fd2.npy')\n",
    "fd3 = np.load(path + 'fd3.npy')\n",
    "\n",
    "imfs1 = np.load(path + 'imfs1.npy')\n",
    "imfs2 = np.load(path + 'imfs2.npy')\n",
    "imfs3 = np.load(path + 'imfs3.npy')\n",
    "\n",
    "freq1 = np.load(path + 'freq1.npy')\n",
    "freq2 = np.load(path + 'freq2.npy')\n",
    "freq3 = np.load(path + 'freq3.npy')\n",
    "\n",
    "ampl1 = np.load(path + 'ampl1.npy')\n",
    "ampl2 = np.load(path + 'ampl2.npy')\n",
    "ampl3 = np.load(path + 'ampl3.npy')"
   ]
  },
  {
   "cell_type": "code",
   "execution_count": 72,
   "metadata": {},
   "outputs": [],
   "source": [
    "p = Pool(3)\n",
    "erps1, erps2, erps3 = p.map(calculate_ERP, [ampl1, ampl2, ampl3])\n",
    "p.close()\n",
    "p.join()"
   ]
  },
  {
   "cell_type": "code",
   "execution_count": null,
   "metadata": {},
   "outputs": [],
   "source": [
    "features1 = [\n",
    "    erps1.reshape(erps1.shape[0], erps1.shape[1] * erps1.shape[2])\n",
    "]\n",
    "\n",
    "features2 = [\n",
    "    erps2.reshape(erps2.shape[0], erps2.shape[1] * erps2.shape[2])\n",
    "]\n",
    "\n",
    "features3 = [\n",
    "    erps3.reshape(erps3.shape[0], erps3.shape[1] * erps3.shape[2])\n",
    "]"
   ]
  },
  {
   "cell_type": "code",
   "execution_count": 80,
   "metadata": {},
   "outputs": [],
   "source": [
    "feat_vec1 = create_feature_vector(features1, 1)\n",
    "feat_vec2 = create_feature_vector(features2, 2)\n",
    "feat_vec3 = create_feature_vector(features3, 3)"
   ]
  },
  {
   "cell_type": "code",
   "execution_count": 81,
   "metadata": {},
   "outputs": [],
   "source": [
    "np.save(path + 'feat_vec1', feat_vec1)\n",
    "np.save(path + 'feat_vec2', feat_vec2)\n",
    "np.save(path + 'feat_vec3', feat_vec3)"
   ]
  },
  {
   "cell_type": "code",
   "execution_count": null,
   "metadata": {},
   "outputs": [],
   "source": []
  }
 ],
 "metadata": {
  "kernelspec": {
   "display_name": "Python 3",
   "language": "python",
   "name": "python3"
  },
  "language_info": {
   "codemirror_mode": {
    "name": "ipython",
    "version": 3
   },
   "file_extension": ".py",
   "mimetype": "text/x-python",
   "name": "python",
   "nbconvert_exporter": "python",
   "pygments_lexer": "ipython3",
   "version": "3.5.2"
  }
 },
 "nbformat": 4,
 "nbformat_minor": 2
}
