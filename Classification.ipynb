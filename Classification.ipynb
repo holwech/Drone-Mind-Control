{
 "cells": [
  {
   "cell_type": "code",
   "execution_count": 6,
   "metadata": {},
   "outputs": [],
   "source": [
    "import pandas as pd\n",
    "import numpy as np\n",
    "import matplotlib.pyplot as plt\n",
    "import pysa.emd as emddev\n",
    "import pysa.eemd as eemddev\n",
    "import pysa.visualization as plotter\n",
    "import pysa.utils as utils\n",
    "import pysa.nhht as nhht\n",
    "import copy\n",
    "from multiprocessing import Pool\n",
    "from timeit import default_timer as timer\n",
    "\n",
    "from scipy import signal\n",
    "import scipy\n",
    "import os\n",
    "from scipy import fft\n",
    "from sklearn import svm\n",
    "from sklearn.model_selection import cross_val_score\n",
    "from sklearn.preprocessing import StandardScaler\n",
    "from sklearn.pipeline import make_pipeline\n",
    "from sklearn.metrics import accuracy_score\n",
    "from sklearn import preprocessing\n",
    "from sklearn.model_selection import GridSearchCV\n",
    "from sklearn.metrics import classification_report\n",
    "from sklearn.cross_validation import train_test_split\n",
    "%matplotlib inline\n",
    "test = 1\n",
    "plt.rcParams['figure.figsize'] = (12,8)"
   ]
  },
  {
   "cell_type": "code",
   "execution_count": 7,
   "metadata": {},
   "outputs": [],
   "source": [
    "def classify_SVM(feat_vectors):\n",
    "    train = np.vstack(tuple(feat_vectors))\n",
    "    X, Y = train[:, 0:-1], train[:, -1].astype(int)\n",
    "    clf = make_pipeline(preprocessing.StandardScaler(), svm.SVC(kernel='rbf'))\n",
    "    scores = cross_val_score(clf, X, Y, cv=3, scoring='accuracy')\n",
    "    print(\"Accuracy: \", scores.mean())"
   ]
  },
  {
   "cell_type": "code",
   "execution_count": 119,
   "metadata": {},
   "outputs": [],
   "source": [
    "from pprint import pprint\n",
    "def grid_search_SVM(X_train, Y_train):\n",
    "    \n",
    "    tuned_parameters2 = [{'kernel': ['rbf'], 'gamma': [0.0001,0.001,0.01,1.0,2],\n",
    "                         'C': [1,2,4,6,8,10]},\n",
    "                        {'kernel': ['linear'], 'C': [1, 10, 100, 1000]}]\n",
    "    \n",
    "    tuned_parameters = [{'kernel': ['rbf'], 'gamma': [1, 0.1, 1e-2, 1e-3, 1e-4, 1e-5],\n",
    "                         'C': [0.01, 0.1, 1, 10, 100, 1000, 10000]},\n",
    "                        {'kernel': ['linear'], 'C': [1, 10, 100, 1000]}]\n",
    "    scaler = StandardScaler()\n",
    "    scaler.fit(X_train)\n",
    "\n",
    "    grid = GridSearchCV(estimator=svm.SVC(C=1), param_grid=tuned_parameters, cv=4, scoring='accuracy', n_jobs=-1) \n",
    "    grid.fit(scaler.transform(X_train), Y_train)\n",
    "\n",
    "    # View the accuracy score\n",
    "    print('Best score for data1:', grid.best_score_)\n",
    "    # View the best parameters for the model found using grid search\n",
    "    print('Best C:',grid.best_estimator_.C) \n",
    "    print('Best Kernel:',grid.best_estimator_.kernel)\n",
    "    print('Best Gamma:',grid.best_estimator_.gamma)\n",
    "    pprint(grid.grid_scores_)\n",
    "    return grid"
   ]
  },
  {
   "cell_type": "code",
   "execution_count": 120,
   "metadata": {},
   "outputs": [],
   "source": [
    "path = \"exp_data/joachim/\""
   ]
  },
  {
   "cell_type": "code",
   "execution_count": 121,
   "metadata": {},
   "outputs": [],
   "source": [
    "feat_vec1 = np.load(path + 'feat_vec1.npy')\n",
    "feat_vec2 = np.load(path + 'feat_vec2.npy')\n",
    "feat_vec3 = np.load(path + 'feat_vec3.npy')"
   ]
  },
  {
   "cell_type": "code",
   "execution_count": 122,
   "metadata": {},
   "outputs": [],
   "source": [
    "X_train1, X_test1, y_train1, y_test1 = train_test_split(\n",
    "    feat_vec1[:,:-1], feat_vec1[:,-1], test_size=0.2, random_state=42\n",
    ")\n",
    "X_train2, X_test2, y_train2, y_test2 = train_test_split(\n",
    "    feat_vec2[:,:-1], feat_vec2[:,-1], test_size=0.2, random_state=42\n",
    ")\n",
    "X_train3, X_test3, y_train3, y_test3 = train_test_split(\n",
    "    feat_vec3[:,:-1], feat_vec3[:,-1], test_size=0.2, random_state=42\n",
    ")"
   ]
  },
  {
   "cell_type": "code",
   "execution_count": 123,
   "metadata": {},
   "outputs": [],
   "source": [
    "X_train = np.vstack(tuple([X_train1, X_train2]))\n",
    "y_train = np.append(y_train1, y_train2)\n",
    "X_test = np.vstack(tuple([X_test1, X_test2]))\n",
    "y_test = np.append(y_test1, y_test2)"
   ]
  },
  {
   "cell_type": "code",
   "execution_count": 124,
   "metadata": {},
   "outputs": [
    {
     "data": {
      "text/plain": [
       "array([ 1.,  1.,  1.,  1.,  1.,  1.,  1.,  1.,  1.,  1.,  1.,  1.,  1.,\n",
       "        1.,  1.,  1.,  1.,  1.,  1.,  1.,  1.,  1.,  1.,  1.,  1.,  1.,\n",
       "        1.,  1.,  1.,  1.,  1.,  1.,  1.,  1.,  1.,  1.,  1.,  1.,  1.,\n",
       "        1.,  2.,  2.,  2.,  2.,  2.,  2.,  2.,  2.,  2.,  2.,  2.,  2.,\n",
       "        2.,  2.,  2.,  2.,  2.,  2.,  2.,  2.,  2.,  2.,  2.,  2.,  2.,\n",
       "        2.,  2.,  2.,  2.,  2.,  2.,  2.,  2.,  2.,  2.,  2.,  2.,  2.,\n",
       "        2.,  2.])"
      ]
     },
     "execution_count": 124,
     "metadata": {},
     "output_type": "execute_result"
    }
   ],
   "source": [
    "y_train"
   ]
  },
  {
   "cell_type": "code",
   "execution_count": 125,
   "metadata": {},
   "outputs": [
    {
     "name": "stdout",
     "output_type": "stream",
     "text": [
      "Best score for data1: 0.5625\n",
      "Best C: 0.01\n",
      "Best Kernel: rbf\n",
      "Best Gamma: 0.1\n",
      "[mean: 0.42500, std: 0.04330, params: {'C': 0.01, 'gamma': 1, 'kernel': 'rbf'},\n",
      " mean: 0.56250, std: 0.10825, params: {'C': 0.01, 'gamma': 0.1, 'kernel': 'rbf'},\n",
      " mean: 0.47500, std: 0.02500, params: {'C': 0.01, 'gamma': 0.01, 'kernel': 'rbf'},\n",
      " mean: 0.47500, std: 0.04330, params: {'C': 0.01, 'gamma': 0.001, 'kernel': 'rbf'},\n",
      " mean: 0.46250, std: 0.06495, params: {'C': 0.01, 'gamma': 0.0001, 'kernel': 'rbf'},\n",
      " mean: 0.46250, std: 0.06495, params: {'C': 0.01, 'gamma': 1e-05, 'kernel': 'rbf'},\n",
      " mean: 0.42500, std: 0.04330, params: {'C': 0.1, 'gamma': 1, 'kernel': 'rbf'},\n",
      " mean: 0.56250, std: 0.10825, params: {'C': 0.1, 'gamma': 0.1, 'kernel': 'rbf'},\n",
      " mean: 0.47500, std: 0.02500, params: {'C': 0.1, 'gamma': 0.01, 'kernel': 'rbf'},\n",
      " mean: 0.47500, std: 0.04330, params: {'C': 0.1, 'gamma': 0.001, 'kernel': 'rbf'},\n",
      " mean: 0.46250, std: 0.06495, params: {'C': 0.1, 'gamma': 0.0001, 'kernel': 'rbf'},\n",
      " mean: 0.46250, std: 0.06495, params: {'C': 0.1, 'gamma': 1e-05, 'kernel': 'rbf'},\n",
      " mean: 0.41250, std: 0.07395, params: {'C': 1, 'gamma': 1, 'kernel': 'rbf'},\n",
      " mean: 0.51250, std: 0.14307, params: {'C': 1, 'gamma': 0.1, 'kernel': 'rbf'},\n",
      " mean: 0.47500, std: 0.02500, params: {'C': 1, 'gamma': 0.01, 'kernel': 'rbf'},\n",
      " mean: 0.47500, std: 0.04330, params: {'C': 1, 'gamma': 0.001, 'kernel': 'rbf'},\n",
      " mean: 0.46250, std: 0.06495, params: {'C': 1, 'gamma': 0.0001, 'kernel': 'rbf'},\n",
      " mean: 0.46250, std: 0.06495, params: {'C': 1, 'gamma': 1e-05, 'kernel': 'rbf'},\n",
      " mean: 0.46250, std: 0.05449, params: {'C': 10, 'gamma': 1, 'kernel': 'rbf'},\n",
      " mean: 0.47500, std: 0.05590, params: {'C': 10, 'gamma': 0.1, 'kernel': 'rbf'},\n",
      " mean: 0.43750, std: 0.10825, params: {'C': 10, 'gamma': 0.01, 'kernel': 'rbf'},\n",
      " mean: 0.48750, std: 0.02165, params: {'C': 10, 'gamma': 0.001, 'kernel': 'rbf'},\n",
      " mean: 0.46250, std: 0.06495, params: {'C': 10, 'gamma': 0.0001, 'kernel': 'rbf'},\n",
      " mean: 0.46250, std: 0.06495, params: {'C': 10, 'gamma': 1e-05, 'kernel': 'rbf'},\n",
      " mean: 0.46250, std: 0.05449, params: {'C': 100, 'gamma': 1, 'kernel': 'rbf'},\n",
      " mean: 0.47500, std: 0.11456, params: {'C': 100, 'gamma': 0.1, 'kernel': 'rbf'},\n",
      " mean: 0.43750, std: 0.14307, params: {'C': 100, 'gamma': 0.01, 'kernel': 'rbf'},\n",
      " mean: 0.41250, std: 0.07395, params: {'C': 100, 'gamma': 0.001, 'kernel': 'rbf'},\n",
      " mean: 0.50000, std: 0.00000, params: {'C': 100, 'gamma': 0.0001, 'kernel': 'rbf'},\n",
      " mean: 0.46250, std: 0.06495, params: {'C': 100, 'gamma': 1e-05, 'kernel': 'rbf'},\n",
      " mean: 0.46250, std: 0.05449, params: {'C': 1000, 'gamma': 1, 'kernel': 'rbf'},\n",
      " mean: 0.45000, std: 0.09354, params: {'C': 1000, 'gamma': 0.1, 'kernel': 'rbf'},\n",
      " mean: 0.37500, std: 0.14361, params: {'C': 1000, 'gamma': 0.01, 'kernel': 'rbf'},\n",
      " mean: 0.37500, std: 0.09014, params: {'C': 1000, 'gamma': 0.001, 'kernel': 'rbf'},\n",
      " mean: 0.40000, std: 0.07906, params: {'C': 1000, 'gamma': 0.0001, 'kernel': 'rbf'},\n",
      " mean: 0.50000, std: 0.00000, params: {'C': 1000, 'gamma': 1e-05, 'kernel': 'rbf'},\n",
      " mean: 0.46250, std: 0.05449, params: {'C': 10000, 'gamma': 1, 'kernel': 'rbf'},\n",
      " mean: 0.45000, std: 0.09354, params: {'C': 10000, 'gamma': 0.1, 'kernel': 'rbf'},\n",
      " mean: 0.37500, std: 0.05590, params: {'C': 10000, 'gamma': 0.01, 'kernel': 'rbf'},\n",
      " mean: 0.42500, std: 0.14361, params: {'C': 10000, 'gamma': 0.001, 'kernel': 'rbf'},\n",
      " mean: 0.38750, std: 0.06495, params: {'C': 10000, 'gamma': 0.0001, 'kernel': 'rbf'},\n",
      " mean: 0.40000, std: 0.07906, params: {'C': 10000, 'gamma': 1e-05, 'kernel': 'rbf'},\n",
      " mean: 0.42500, std: 0.08292, params: {'C': 1, 'kernel': 'linear'},\n",
      " mean: 0.41250, std: 0.10232, params: {'C': 10, 'kernel': 'linear'},\n",
      " mean: 0.41250, std: 0.11924, params: {'C': 100, 'kernel': 'linear'},\n",
      " mean: 0.42500, std: 0.11456, params: {'C': 1000, 'kernel': 'linear'}]\n"
     ]
    },
    {
     "name": "stderr",
     "output_type": "stream",
     "text": [
      "/usr/local/lib/python3.5/dist-packages/sklearn/model_selection/_search.py:761: DeprecationWarning: The grid_scores_ attribute was deprecated in version 0.18 in favor of the more elaborate cv_results_ attribute. The grid_scores_ attribute will not be available from 0.20\n",
      "  DeprecationWarning)\n"
     ]
    }
   ],
   "source": [
    "grid = grid_search_SVM(X_train, y_train)"
   ]
  },
  {
   "cell_type": "code",
   "execution_count": 126,
   "metadata": {},
   "outputs": [],
   "source": [
    "y_pred = grid.predict(X_test)"
   ]
  },
  {
   "cell_type": "code",
   "execution_count": 130,
   "metadata": {},
   "outputs": [
    {
     "data": {
      "text/plain": [
       "array([ 2.,  2.,  2.,  2.,  2.,  2.,  2.,  2.,  2.,  2.,  2.,  2.,  2.,\n",
       "        2.,  2.,  2.,  2.,  2.,  2.,  2.])"
      ]
     },
     "execution_count": 130,
     "metadata": {},
     "output_type": "execute_result"
    }
   ],
   "source": [
    "y_pred"
   ]
  },
  {
   "cell_type": "code",
   "execution_count": 128,
   "metadata": {},
   "outputs": [
    {
     "data": {
      "text/plain": [
       "array([ 1.,  1.,  1.,  1.,  1.,  1.,  1.,  1.,  1.,  1.,  2.,  2.,  2.,\n",
       "        2.,  2.,  2.,  2.,  2.,  2.,  2.])"
      ]
     },
     "execution_count": 128,
     "metadata": {},
     "output_type": "execute_result"
    }
   ],
   "source": [
    "y_test"
   ]
  },
  {
   "cell_type": "code",
   "execution_count": 129,
   "metadata": {},
   "outputs": [
    {
     "name": "stdout",
     "output_type": "stream",
     "text": [
      "             precision    recall  f1-score   support\n",
      "\n",
      "        1.0       0.00      0.00      0.00        10\n",
      "        2.0       0.50      1.00      0.67        10\n",
      "\n",
      "avg / total       0.25      0.50      0.33        20\n",
      "\n"
     ]
    },
    {
     "name": "stderr",
     "output_type": "stream",
     "text": [
      "/usr/local/lib/python3.5/dist-packages/sklearn/metrics/classification.py:1135: UndefinedMetricWarning: Precision and F-score are ill-defined and being set to 0.0 in labels with no predicted samples.\n",
      "  'precision', 'predicted', average, warn_for)\n"
     ]
    }
   ],
   "source": [
    "print(classification_report(y_test, y_pred))"
   ]
  },
  {
   "cell_type": "code",
   "execution_count": null,
   "metadata": {},
   "outputs": [],
   "source": []
  }
 ],
 "metadata": {
  "kernelspec": {
   "display_name": "Python 3",
   "language": "python",
   "name": "python3"
  },
  "language_info": {
   "codemirror_mode": {
    "name": "ipython",
    "version": 3
   },
   "file_extension": ".py",
   "mimetype": "text/x-python",
   "name": "python",
   "nbconvert_exporter": "python",
   "pygments_lexer": "ipython3",
   "version": "3.5.2"
  }
 },
 "nbformat": 4,
 "nbformat_minor": 2
}
