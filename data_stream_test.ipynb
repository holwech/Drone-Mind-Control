{
 "cells": [
  {
   "cell_type": "code",
   "execution_count": 9,
   "metadata": {},
   "outputs": [],
   "source": [
    "import pandas as pd\n",
    "from lib.stream.stream import Stream\n",
    "import numpy as np\n",
    "import time"
   ]
  },
  {
   "cell_type": "code",
   "execution_count": 10,
   "metadata": {},
   "outputs": [
    {
     "name": "stdout",
     "output_type": "stream",
     "text": [
      "====================\n",
      "Nothing happening? Make sure that the lab\n",
      "streaming layer application is running :)\n",
      "===================\n",
      "Connected to streams.\n"
     ]
    }
   ],
   "source": [
    "    stream = Stream()\n",
    "    stream.connect()\n",
    "    "
   ]
  },
  {
   "cell_type": "code",
   "execution_count": 28,
   "metadata": {},
   "outputs": [
    {
     "name": "stdout",
     "output_type": "stream",
     "text": [
      "Printing time_series for  10000  milliseconds.\n",
      "Timeseries complete\n"
     ]
    }
   ],
   "source": [
    "time.sleep(2)\n",
    "time_series = stream.pull_time_series(10000)"
   ]
  },
  {
   "cell_type": "code",
   "execution_count": 29,
   "metadata": {},
   "outputs": [],
   "source": [
    "datastream = pd.DataFrame(time_series, columns=[\"timestamp\",0,1,2,3,4,5,6,7])"
   ]
  },
  {
   "cell_type": "code",
   "execution_count": 30,
   "metadata": {},
   "outputs": [
    {
     "data": {
      "text/html": [
       "<div>\n",
       "<style>\n",
       "    .dataframe thead tr:only-child th {\n",
       "        text-align: right;\n",
       "    }\n",
       "\n",
       "    .dataframe thead th {\n",
       "        text-align: left;\n",
       "    }\n",
       "\n",
       "    .dataframe tbody tr th {\n",
       "        vertical-align: top;\n",
       "    }\n",
       "</style>\n",
       "<table border=\"1\" class=\"dataframe\">\n",
       "  <thead>\n",
       "    <tr style=\"text-align: right;\">\n",
       "      <th></th>\n",
       "      <th>timestamp</th>\n",
       "      <th>0</th>\n",
       "      <th>1</th>\n",
       "      <th>2</th>\n",
       "      <th>3</th>\n",
       "      <th>4</th>\n",
       "      <th>5</th>\n",
       "      <th>6</th>\n",
       "      <th>7</th>\n",
       "    </tr>\n",
       "  </thead>\n",
       "  <tbody>\n",
       "    <tr>\n",
       "      <th>0</th>\n",
       "      <td>8139.642099</td>\n",
       "      <td>-187500.015625</td>\n",
       "      <td>-28064.648438</td>\n",
       "      <td>-10133.856445</td>\n",
       "      <td>25408.949219</td>\n",
       "      <td>-10231.734375</td>\n",
       "      <td>-187500.046875</td>\n",
       "      <td>37681.242188</td>\n",
       "      <td>13564.201172</td>\n",
       "    </tr>\n",
       "    <tr>\n",
       "      <th>1</th>\n",
       "      <td>8139.642214</td>\n",
       "      <td>-187500.015625</td>\n",
       "      <td>-28272.699219</td>\n",
       "      <td>-9777.815430</td>\n",
       "      <td>24258.191406</td>\n",
       "      <td>-9958.126953</td>\n",
       "      <td>-187500.046875</td>\n",
       "      <td>38059.457031</td>\n",
       "      <td>13873.503906</td>\n",
       "    </tr>\n",
       "    <tr>\n",
       "      <th>2</th>\n",
       "      <td>8139.642328</td>\n",
       "      <td>-187500.015625</td>\n",
       "      <td>-28048.109375</td>\n",
       "      <td>-9665.207031</td>\n",
       "      <td>23617.367188</td>\n",
       "      <td>-9791.896484</td>\n",
       "      <td>-187500.046875</td>\n",
       "      <td>38135.628906</td>\n",
       "      <td>14035.129883</td>\n",
       "    </tr>\n",
       "    <tr>\n",
       "      <th>3</th>\n",
       "      <td>8139.642441</td>\n",
       "      <td>-187500.015625</td>\n",
       "      <td>-27688.492188</td>\n",
       "      <td>-9962.485352</td>\n",
       "      <td>24405.736328</td>\n",
       "      <td>-9967.916992</td>\n",
       "      <td>-187500.046875</td>\n",
       "      <td>37790.003906</td>\n",
       "      <td>13817.222656</td>\n",
       "    </tr>\n",
       "    <tr>\n",
       "      <th>4</th>\n",
       "      <td>8139.642551</td>\n",
       "      <td>-187500.015625</td>\n",
       "      <td>-27706.820312</td>\n",
       "      <td>-10255.136719</td>\n",
       "      <td>25508.503906</td>\n",
       "      <td>-10240.943359</td>\n",
       "      <td>-187500.046875</td>\n",
       "      <td>37508.371094</td>\n",
       "      <td>13523.789062</td>\n",
       "    </tr>\n",
       "  </tbody>\n",
       "</table>\n",
       "</div>"
      ],
      "text/plain": [
       "     timestamp              0             1             2             3  \\\n",
       "0  8139.642099 -187500.015625 -28064.648438 -10133.856445  25408.949219   \n",
       "1  8139.642214 -187500.015625 -28272.699219  -9777.815430  24258.191406   \n",
       "2  8139.642328 -187500.015625 -28048.109375  -9665.207031  23617.367188   \n",
       "3  8139.642441 -187500.015625 -27688.492188  -9962.485352  24405.736328   \n",
       "4  8139.642551 -187500.015625 -27706.820312 -10255.136719  25508.503906   \n",
       "\n",
       "              4              5             6             7  \n",
       "0 -10231.734375 -187500.046875  37681.242188  13564.201172  \n",
       "1  -9958.126953 -187500.046875  38059.457031  13873.503906  \n",
       "2  -9791.896484 -187500.046875  38135.628906  14035.129883  \n",
       "3  -9967.916992 -187500.046875  37790.003906  13817.222656  \n",
       "4 -10240.943359 -187500.046875  37508.371094  13523.789062  "
      ]
     },
     "execution_count": 30,
     "metadata": {},
     "output_type": "execute_result"
    }
   ],
   "source": [
    "datastream.head()"
   ]
  },
  {
   "cell_type": "code",
   "execution_count": 31,
   "metadata": {},
   "outputs": [],
   "source": [
    "datastream.to_csv('Data/sample_10s_lr5.csv')"
   ]
  },
  {
   "cell_type": "code",
   "execution_count": 7,
   "metadata": {},
   "outputs": [],
   "source": []
  },
  {
   "cell_type": "code",
   "execution_count": 8,
   "metadata": {},
   "outputs": [
    {
     "data": {
      "text/plain": [
       "array([[   7112.34768665, -162774.171875  , -162457.78125   , ...,\n",
       "        -162540.078125  , -162583.734375  , -161838.609375  ],\n",
       "       [   7112.34783638, -162107.171875  , -162129.421875  , ...,\n",
       "        -163223.4375    , -162943.03125   , -161802.6875    ],\n",
       "       [   7112.34795341, -162049.28125   , -162092.484375  , ...,\n",
       "        -163359.265625  , -162962.171875  , -161782.015625  ],\n",
       "       ..., \n",
       "       [   7122.31641482, -157926.09375   , -157934.28125   , ...,\n",
       "        -159300.375     , -158871.484375  , -157706.28125   ],\n",
       "       [   7122.31688054, -158417.90625   , -158284.21875   , ...,\n",
       "        -158789.359375  , -158541.703125  , -157680.40625   ],\n",
       "       [   7122.37114519, -159027.296875  , -158542.46875   , ...,\n",
       "        -158164.390625  , -158286.5       , -157727.        ]])"
      ]
     },
     "execution_count": 8,
     "metadata": {},
     "output_type": "execute_result"
    }
   ],
   "source": []
  },
  {
   "cell_type": "code",
   "execution_count": 10,
   "metadata": {},
   "outputs": [],
   "source": [
    "\n"
   ]
  },
  {
   "cell_type": "code",
   "execution_count": null,
   "metadata": {},
   "outputs": [],
   "source": []
  }
 ],
 "metadata": {
  "kernelspec": {
   "display_name": "Python 3",
   "language": "python",
   "name": "python3"
  },
  "language_info": {
   "codemirror_mode": {
    "name": "ipython",
    "version": 3
   },
   "file_extension": ".py",
   "mimetype": "text/x-python",
   "name": "python",
   "nbconvert_exporter": "python",
   "pygments_lexer": "ipython3",
   "version": "3.5.2"
  }
 },
 "nbformat": 4,
 "nbformat_minor": 1
}
