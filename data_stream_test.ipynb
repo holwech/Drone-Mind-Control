{
 "cells": [
  {
   "cell_type": "code",
   "execution_count": 1,
   "metadata": {},
   "outputs": [],
   "source": [
    "import pandas as pd\n",
    "from lib.stream.stream import Stream\n",
    "import numpy as np\n"
   ]
  },
  {
   "cell_type": "code",
   "execution_count": 2,
   "metadata": {},
   "outputs": [
    {
     "name": "stdout",
     "output_type": "stream",
     "text": [
      "====================\n",
      "Nothing happening? Make sure that the lab\n",
      "streaming layer application is running :)\n",
      "===================\n",
      "Connected to streams.\n",
      "Printing time_series for  10000  milliseconds.\n",
      "Timeseries complete\n"
     ]
    }
   ],
   "source": [
    "    stream = Stream()\n",
    "    stream.connect()\n",
    "    time_series = stream.pull_time_series(10000)\n",
    "    "
   ]
  },
  {
   "cell_type": "code",
   "execution_count": 5,
   "metadata": {},
   "outputs": [],
   "source": [
    "datastream = pd.DataFrame(time_series, columns=[\"timestamp\",0,1,2,3,4,5,6,7])"
   ]
  },
  {
   "cell_type": "code",
   "execution_count": 6,
   "metadata": {},
   "outputs": [
    {
     "data": {
      "text/html": [
       "<div>\n",
       "<style>\n",
       "    .dataframe thead tr:only-child th {\n",
       "        text-align: right;\n",
       "    }\n",
       "\n",
       "    .dataframe thead th {\n",
       "        text-align: left;\n",
       "    }\n",
       "\n",
       "    .dataframe tbody tr th {\n",
       "        vertical-align: top;\n",
       "    }\n",
       "</style>\n",
       "<table border=\"1\" class=\"dataframe\">\n",
       "  <thead>\n",
       "    <tr style=\"text-align: right;\">\n",
       "      <th></th>\n",
       "      <th>timestamp</th>\n",
       "      <th>0</th>\n",
       "      <th>1</th>\n",
       "      <th>2</th>\n",
       "      <th>3</th>\n",
       "      <th>4</th>\n",
       "      <th>5</th>\n",
       "      <th>6</th>\n",
       "      <th>7</th>\n",
       "    </tr>\n",
       "  </thead>\n",
       "  <tbody>\n",
       "    <tr>\n",
       "      <th>0</th>\n",
       "      <td>10784.901409</td>\n",
       "      <td>-187500.015625</td>\n",
       "      <td>-34150.917969</td>\n",
       "      <td>-29071.685547</td>\n",
       "      <td>14976.808594</td>\n",
       "      <td>-16101.079102</td>\n",
       "      <td>-187500.015625</td>\n",
       "      <td>-26448.171875</td>\n",
       "      <td>-23018.251953</td>\n",
       "    </tr>\n",
       "    <tr>\n",
       "      <th>1</th>\n",
       "      <td>10784.901550</td>\n",
       "      <td>-187500.015625</td>\n",
       "      <td>-34272.042969</td>\n",
       "      <td>-28863.947266</td>\n",
       "      <td>14796.564453</td>\n",
       "      <td>-16034.381836</td>\n",
       "      <td>-187500.015625</td>\n",
       "      <td>-26193.785156</td>\n",
       "      <td>-22880.027344</td>\n",
       "    </tr>\n",
       "    <tr>\n",
       "      <th>2</th>\n",
       "      <td>10784.901667</td>\n",
       "      <td>-187500.015625</td>\n",
       "      <td>-34194.750000</td>\n",
       "      <td>-28562.087891</td>\n",
       "      <td>14160.523438</td>\n",
       "      <td>-15785.450195</td>\n",
       "      <td>-187500.015625</td>\n",
       "      <td>-25887.902344</td>\n",
       "      <td>-22600.050781</td>\n",
       "    </tr>\n",
       "    <tr>\n",
       "      <th>3</th>\n",
       "      <td>10784.901781</td>\n",
       "      <td>-187500.015625</td>\n",
       "      <td>-34021.949219</td>\n",
       "      <td>-28577.375000</td>\n",
       "      <td>13940.670898</td>\n",
       "      <td>-15695.461914</td>\n",
       "      <td>-187500.015625</td>\n",
       "      <td>-25945.658203</td>\n",
       "      <td>-22559.146484</td>\n",
       "    </tr>\n",
       "    <tr>\n",
       "      <th>4</th>\n",
       "      <td>10784.901893</td>\n",
       "      <td>-187500.015625</td>\n",
       "      <td>-33979.859375</td>\n",
       "      <td>-28879.191406</td>\n",
       "      <td>14437.304688</td>\n",
       "      <td>-15872.509766</td>\n",
       "      <td>-187500.015625</td>\n",
       "      <td>-26271.570312</td>\n",
       "      <td>-22795.425781</td>\n",
       "    </tr>\n",
       "  </tbody>\n",
       "</table>\n",
       "</div>"
      ],
      "text/plain": [
       "      timestamp              0             1             2             3  \\\n",
       "0  10784.901409 -187500.015625 -34150.917969 -29071.685547  14976.808594   \n",
       "1  10784.901550 -187500.015625 -34272.042969 -28863.947266  14796.564453   \n",
       "2  10784.901667 -187500.015625 -34194.750000 -28562.087891  14160.523438   \n",
       "3  10784.901781 -187500.015625 -34021.949219 -28577.375000  13940.670898   \n",
       "4  10784.901893 -187500.015625 -33979.859375 -28879.191406  14437.304688   \n",
       "\n",
       "              4              5             6             7  \n",
       "0 -16101.079102 -187500.015625 -26448.171875 -23018.251953  \n",
       "1 -16034.381836 -187500.015625 -26193.785156 -22880.027344  \n",
       "2 -15785.450195 -187500.015625 -25887.902344 -22600.050781  \n",
       "3 -15695.461914 -187500.015625 -25945.658203 -22559.146484  \n",
       "4 -15872.509766 -187500.015625 -26271.570312 -22795.425781  "
      ]
     },
     "execution_count": 6,
     "metadata": {},
     "output_type": "execute_result"
    }
   ],
   "source": [
    "datastream.head()"
   ]
  },
  {
   "cell_type": "code",
   "execution_count": 7,
   "metadata": {},
   "outputs": [],
   "source": [
    "datastream.to_csv('Data/sample_10s.csv')"
   ]
  },
  {
   "cell_type": "code",
   "execution_count": 6,
   "metadata": {},
   "outputs": [],
   "source": []
  },
  {
   "cell_type": "code",
   "execution_count": 8,
   "metadata": {},
   "outputs": [],
   "source": []
  },
  {
   "cell_type": "code",
   "execution_count": 10,
   "metadata": {},
   "outputs": [],
   "source": [
    "\n"
   ]
  },
  {
   "cell_type": "code",
   "execution_count": null,
   "metadata": {},
   "outputs": [],
   "source": []
  }
 ],
 "metadata": {
  "kernelspec": {
   "display_name": "Python 3",
   "language": "python",
   "name": "python3"
  },
  "language_info": {
   "codemirror_mode": {
    "name": "ipython",
    "version": 3
   },
   "file_extension": ".py",
   "mimetype": "text/x-python",
   "name": "python",
   "nbconvert_exporter": "python",
   "pygments_lexer": "ipython3",
   "version": "3.5.2"
  }
 },
 "nbformat": 4,
 "nbformat_minor": 1
}
