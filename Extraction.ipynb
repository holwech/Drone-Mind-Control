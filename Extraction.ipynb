{
 "cells": [
  {
   "cell_type": "code",
   "execution_count": 2,
   "metadata": {},
   "outputs": [
    {
     "name": "stderr",
     "output_type": "stream",
     "text": [
      "/usr/local/lib/python3.5/dist-packages/sklearn/cross_validation.py:41: DeprecationWarning: This module was deprecated in version 0.18 in favor of the model_selection module into which all the refactored classes and functions are moved. Also note that the interface of the new CV iterators are different from that of this module. This module will be removed in 0.20.\n",
      "  \"This module will be removed in 0.20.\", DeprecationWarning)\n"
     ]
    }
   ],
   "source": [
    "import pandas as pd\n",
    "import numpy as np\n",
    "import matplotlib.pyplot as plt\n",
    "import pysa.emd as emddev\n",
    "import pysa.eemd as eemddev\n",
    "import pysa.visualization as plotter\n",
    "import pysa.utils as utils\n",
    "import pysa.nhht as nhht\n",
    "import copy\n",
    "from multiprocessing import Pool\n",
    "from timeit import default_timer as timer\n",
    "\n",
    "from scipy import signal\n",
    "import scipy\n",
    "import os\n",
    "from scipy import fft\n",
    "from sklearn import svm\n",
    "from sklearn.model_selection import cross_val_score\n",
    "from sklearn.preprocessing import StandardScaler\n",
    "from sklearn.pipeline import make_pipeline\n",
    "from sklearn.metrics import accuracy_score\n",
    "from sklearn import preprocessing\n",
    "from sklearn.model_selection import GridSearchCV\n",
    "from sklearn.metrics import classification_report\n",
    "from sklearn.cross_validation import train_test_split\n",
    "%matplotlib inline\n",
    "test = 1\n",
    "plt.rcParams['figure.figsize'] = (12,8)"
   ]
  },
  {
   "cell_type": "code",
   "execution_count": 3,
   "metadata": {},
   "outputs": [],
   "source": [
    "def IMF_filter(signal):\n",
    "    max_modes = 15\n",
    "    ensembles = 100\n",
    "    ensembles_per_process = 10\n",
    "    max_siftings = 200\n",
    "    end_time = 10\n",
    "    sample_freq = 250\n",
    "\n",
    "    max_data = max(signal)\n",
    "    min_data = min(signal)\n",
    "    \n",
    "    imfs = emddev.emd(signal, min_data, max_data, max_modes, max_siftings)\n",
    "    \n",
    "    imf1 = utils.reverse_normalization(imfs[0], min_data, max_data, len(signal))\n",
    "    imf2 = utils.reverse_normalization(imfs[1], min_data, max_data, len(signal))\n",
    "    residue = utils.reverse_normalization(imfs[-1], min_data, max_data, len(signal))\n",
    "    return signal - imf1 - imf2 - residue"
   ]
  },
  {
   "cell_type": "code",
   "execution_count": 4,
   "metadata": {},
   "outputs": [],
   "source": [
    "# Output imf x data\n",
    "def get_IMF(signal, max_modes = 15):\n",
    "    ensembles = 100\n",
    "    ensembles_per_process = 10\n",
    "    max_siftings = 200\n",
    "    end_time = 10\n",
    "    sample_freq = 250\n",
    "\n",
    "    max_data = max(signal)\n",
    "    min_data = min(signal)\n",
    "    \n",
    "    return emddev.emd(signal, min_data, max_data, max_modes, max_siftings)"
   ]
  },
  {
   "cell_type": "code",
   "execution_count": 5,
   "metadata": {},
   "outputs": [],
   "source": [
    "def window_average(x, window = 5):\n",
    "    avg_x = np.zeros(len(x) // window)\n",
    "    for i in range(0, (len(x) // window)):\n",
    "        w_step = i * window\n",
    "        avg_x[i] = np.average(x[w_step:(w_step + 4)])\n",
    "    return avg_x"
   ]
  },
  {
   "cell_type": "code",
   "execution_count": 6,
   "metadata": {},
   "outputs": [],
   "source": [
    "def calculate_IMFs(data, num_imfs=4):\n",
    "    # Calculate all IMFs for all sensors\n",
    "    list_imfs = np.zeros((data.shape[0], data.shape[2], num_imfs, data.shape[1]))\n",
    "    for m, measurement in enumerate(data):\n",
    "        for s, sensor in enumerate(measurement.T):\n",
    "            imfs = get_IMF(sensor)\n",
    "            num_cols = 4\n",
    "            if imfs.shape[0] < 4:\n",
    "                num_cols = imfs.shape[0]\n",
    "            list_imfs[m, s, :num_cols, :] = imfs[0:num_cols] \n",
    "    return list_imfs"
   ]
  },
  {
   "cell_type": "code",
   "execution_count": 7,
   "metadata": {},
   "outputs": [],
   "source": [
    "def calculate_IMFs_alt(data, num_imfs=4):\n",
    "    # Calculate all IMFs for all sensors\n",
    "    list_imfs = np.zeros((data.shape[0], data.shape[2], num_imfs, data.shape[1]))\n",
    "    for m, measurement in enumerate(data):\n",
    "        for s, sensor in enumerate(measurement.T):\n",
    "            imfs = get_IMF(sensor)\n",
    "            imfs = imfs[2:-1,:]\n",
    "            num_cols = 4\n",
    "            if imfs.shape[0] < 4:\n",
    "                num_cols = imfs.shape[0]\n",
    "            list_imfs[m, s, :num_cols, :] = imfs[0:num_cols] \n",
    "    return list_imfs"
   ]
  },
  {
   "cell_type": "code",
   "execution_count": 8,
   "metadata": {},
   "outputs": [],
   "source": [
    "# Takes in an array of form measurement x data x sensor\n",
    "# Return array of form measurement x data x sensor\n",
    "def filter_signals(data):\n",
    "    f = np.zeros(data.shape)\n",
    "    # Calculate all IMFs for all sensors\n",
    "    for m, measurement in enumerate(data):\n",
    "        for s, sensor in enumerate(measurement.T):\n",
    "            f[m, :,s] = IMF_filter(sensor)\n",
    "    return f"
   ]
  },
  {
   "cell_type": "code",
   "execution_count": 9,
   "metadata": {},
   "outputs": [],
   "source": [
    "def ERP(amplitudes, divider=3, initial=1, cutoff=1, fs=250):\n",
    "    \n",
    "    a = np.square(amplitudes)\n",
    "    # Calculate mean before event\n",
    "    r_i = a[:, (initial * fs):(divider * fs)].mean(axis=1)\n",
    "    a_j = np.zeros(a[:, (divider * fs):-(cutoff * fs)].shape)\n",
    "    for r, row in enumerate(a[:, (divider * fs):-(cutoff * fs)]):\n",
    "        a_j[r, :] = [100 * ((a_j_t - r_i[r]) / r_i[r]) for a_j_t in row]\n",
    "    # Calculate mean after event\n",
    "    #a_j = a[:, (divider * fs):-(cutoff * fs)].mean(axis=1)\n",
    "    # Calculate event related potential for given amplitudes\n",
    "    #erp =  np.mean(100 * ((a_j - r_i) / r_i))\n",
    "    erp = a_j.mean(axis=1)\n",
    "    \n",
    "    return erp"
   ]
  },
  {
   "cell_type": "code",
   "execution_count": 10,
   "metadata": {},
   "outputs": [],
   "source": [
    "def load_all_signals(folder):\n",
    "    path = 'Data/' + folder\n",
    "    files = []\n",
    "    count = 0\n",
    "    for i in os.listdir(path):\n",
    "        files.append(i)\n",
    "    data = []\n",
    "    for file in files:\n",
    "        df = pd.read_csv(os.path.join(path, file), index_col=0)\n",
    "        data.append(df.as_matrix())\n",
    "    return np.asarray(data)"
   ]
  },
  {
   "cell_type": "code",
   "execution_count": 11,
   "metadata": {},
   "outputs": [],
   "source": [
    "def signal_to_erp(signal):\n",
    "    err_idx = np.array([])\n",
    "    #print(\"Calculating fd\")\n",
    "    #fd = filter_signals(signal)\n",
    "    #fd = fd[:,100:-100,:]\n",
    "    print(\"Calculating imfs\")\n",
    "    imfs = calculate_IMFs_alt(signal)\n",
    "    imfs = imfs[:,:,:,100:-100]\n",
    "    print(\"Calculating erps\")\n",
    "    erps = np.zeros((imfs.shape[0] - 3, imfs.shape[1], imfs.shape[2]))\n",
    "    for m, measurement in enumerate(imfs[2:-1,:,:]):\n",
    "        for s, sensor in enumerate(measurement):\n",
    "                try:\n",
    "                    _, a = nhht.nhht(sensor, 250)\n",
    "                except:\n",
    "                    err_idx = np.append(err_idx, m)\n",
    "                erps[m,s,:] = ERP(a)\n",
    "    return imfs, erps, err_idx"
   ]
  },
  {
   "cell_type": "code",
   "execution_count": 12,
   "metadata": {},
   "outputs": [],
   "source": [
    "def prepare_erps(erps, err_idx):\n",
    "    new_erps = []\n",
    "    for i, erp in enumerate(erps):\n",
    "        new_erps += [prepare_erp(erp, i, err_idx)]\n",
    "    return new_erps"
   ]
  },
  {
   "cell_type": "code",
   "execution_count": 13,
   "metadata": {},
   "outputs": [],
   "source": [
    "def prepare_erp(erp, i, err_idx):\n",
    "    new_erp = copy.deepcopy(erp)\n",
    "    new_erp = np.delete(new_erp, err_idx, 0)\n",
    "    new_erp = new_erp.reshape((new_erp.shape[0], new_erp.shape[1] * new_erp.shape[2]))\n",
    "    new_erp = np.hstack((new_erp, np.full((new_erp.shape[0], 1), i)))\n",
    "    return new_erp"
   ]
  },
  {
   "cell_type": "code",
   "execution_count": 14,
   "metadata": {},
   "outputs": [],
   "source": [
    "def classify_SVM(erps):\n",
    "    train = np.vstack(tuple(erps))\n",
    "    X, Y = train[:, 0:-1], train[:, -1].astype(int)\n",
    "    clf = make_pipeline(preprocessing.StandardScaler(), svm.SVC(kernel='rbf'))\n",
    "    scores = cross_val_score(clf, X, Y, cv=3, scoring='accuracy')\n",
    "    print(\"Accuracy: \", scores.mean())"
   ]
  },
  {
   "cell_type": "code",
   "execution_count": 15,
   "metadata": {},
   "outputs": [],
   "source": [
    "from pprint import pprint\n",
    "def grid_search_SVM(erps):\n",
    "    train = np.vstack(tuple(erps))\n",
    "    np.random.shuffle(train)\n",
    "    X_train, Y_train = train[:, 0:-1], train[:, -1].astype(int)\n",
    "    \n",
    "    tuned_parameters2 = [{'kernel': ['rbf'], 'gamma': [0.0001,0.001,0.01,1.0,2],\n",
    "                         'C': [1,2,4,6,8,10]},\n",
    "                        {'kernel': ['linear'], 'C': [1, 10, 100, 1000]}]\n",
    "    \n",
    "    tuned_parameters = [{'kernel': ['rbf'], 'gamma': [1, 0.1, 1e-2, 1e-3, 1e-4, 1e-5],\n",
    "                         'C': [0.1, 1, 10, 100, 1000, 10000]},\n",
    "                        {'kernel': ['linear'], 'C': [1, 10, 100, 1000]}]\n",
    "    scaler = StandardScaler()\n",
    "    scaler.fit(X_train)\n",
    "\n",
    "    grid = GridSearchCV(estimator=svm.SVC(C=1), param_grid=tuned_parameters, cv=10, scoring='accuracy', n_jobs=-1) \n",
    "    grid.fit(scaler.transform(X_train), Y_train)\n",
    "\n",
    "    # View the accuracy score\n",
    "    print('Best score for data1:', grid.best_score_)\n",
    "    # View the best parameters for the model found using grid search\n",
    "    print('Best C:',grid.best_estimator_.C) \n",
    "    print('Best Kernel:',grid.best_estimator_.kernel)\n",
    "    print('Best Gamma:',grid.best_estimator_.gamma)\n",
    "    pprint(grid.grid_scores_)"
   ]
  },
  {
   "cell_type": "code",
   "execution_count": 16,
   "metadata": {},
   "outputs": [],
   "source": [
    "right = load_all_signals('j_r_o_5')\n",
    "neutral = load_all_signals('j_n_o_5')"
   ]
  },
  {
   "cell_type": "code",
   "execution_count": 17,
   "metadata": {},
   "outputs": [
    {
     "data": {
      "text/plain": [
       "(70, 1000, 8)"
      ]
     },
     "execution_count": 17,
     "metadata": {},
     "output_type": "execute_result"
    }
   ],
   "source": [
    "right[:,250:-250,:].shape"
   ]
  },
  {
   "cell_type": "code",
   "execution_count": 18,
   "metadata": {},
   "outputs": [
    {
     "name": "stdout",
     "output_type": "stream",
     "text": [
      "Calculating imfs\n",
      "Calculating imfs\n",
      "Calculating erps\n",
      "Calculating erps\n",
      "Time elapsed is  213.49888394100003\n"
     ]
    }
   ],
   "source": [
    "elapse_time = timer()\n",
    "p = Pool(2)\n",
    "t = p.map(signal_to_erp, [neutral, right])\n",
    "print(\"Time elapsed is \", timer() - elapse_time)"
   ]
  },
  {
   "cell_type": "code",
   "execution_count": 19,
   "metadata": {},
   "outputs": [],
   "source": [
    "all_imfs_1, all_erp_1, ei1 = t[0]\n",
    "all_imfs_2, all_erp_2, ei2 = t[1]"
   ]
  },
  {
   "cell_type": "code",
   "execution_count": 20,
   "metadata": {},
   "outputs": [],
   "source": [
    "ei = np.unique(np.append(ei1, ei2))"
   ]
  },
  {
   "cell_type": "code",
   "execution_count": 21,
   "metadata": {},
   "outputs": [
    {
     "data": {
      "text/plain": [
       "(22,)"
      ]
     },
     "execution_count": 21,
     "metadata": {},
     "output_type": "execute_result"
    }
   ],
   "source": [
    "ei.shape"
   ]
  },
  {
   "cell_type": "code",
   "execution_count": 22,
   "metadata": {},
   "outputs": [
    {
     "name": "stderr",
     "output_type": "stream",
     "text": [
      "/usr/local/lib/python3.5/dist-packages/ipykernel_launcher.py:3: DeprecationWarning: using a non-integer array as obj in delete will result in an error in the future\n",
      "  This is separate from the ipykernel package so we can avoid doing imports until\n"
     ]
    }
   ],
   "source": [
    "erps = prepare_erps([all_erp_1, all_erp_2], ei)"
   ]
  },
  {
   "cell_type": "code",
   "execution_count": 23,
   "metadata": {},
   "outputs": [
    {
     "data": {
      "text/plain": [
       "[array([[ -2.85854732e+01,  -1.30468500e+01,   6.39540969e+01, ...,\n",
       "           5.40350838e+02,   1.03275229e+02,   0.00000000e+00],\n",
       "        [  1.53022333e+01,   3.28183275e+01,   1.61052724e+02, ...,\n",
       "          -5.07848355e+01,   3.37631614e+00,   0.00000000e+00],\n",
       "        [ -8.78583866e+00,  -1.37793893e+00,  -2.92955635e+01, ...,\n",
       "          -5.48940442e+01,   1.93982569e+02,   0.00000000e+00],\n",
       "        ..., \n",
       "        [  1.92610099e+01,  -7.30003860e+01,  -7.01661100e+01, ...,\n",
       "          -6.70732438e+01,   3.23681666e+00,   0.00000000e+00],\n",
       "        [ -4.14251524e+01,   6.91624902e+01,  -6.19116967e+00, ...,\n",
       "          -9.14337715e+01,  -6.34293684e-06,   0.00000000e+00],\n",
       "        [ -3.45157009e+01,   4.94937146e+01,   7.30684409e+01, ...,\n",
       "          -5.29478487e+01,   1.33489115e+02,   0.00000000e+00]]),\n",
       " array([[  1.30671189e+02,   8.90640766e+02,   2.13357328e+02, ...,\n",
       "           2.44373999e+02,   4.85629377e+01,   1.00000000e+00],\n",
       "        [  6.81752331e+01,  -3.59763785e+00,   2.78764436e+02, ...,\n",
       "           9.82727388e+01,  -7.96730170e+01,   1.00000000e+00],\n",
       "        [ -1.40928356e+01,   8.38670024e+01,   1.24156517e+01, ...,\n",
       "          -9.14259221e+00,  -4.71163987e+01,   1.00000000e+00],\n",
       "        ..., \n",
       "        [  4.62974780e+04,   2.13090116e+04,   5.54648539e+03, ...,\n",
       "           2.16279006e+03,   1.60901243e+03,   1.00000000e+00],\n",
       "        [  2.18948025e+01,  -4.58149716e+01,   8.00892059e+01, ...,\n",
       "          -2.93287873e+01,  -6.27937993e+01,   1.00000000e+00],\n",
       "        [  6.50870512e+01,   2.57887110e+01,  -5.96607375e+01, ...,\n",
       "          -4.92635334e+01,   0.00000000e+00,   1.00000000e+00]])]"
      ]
     },
     "execution_count": 23,
     "metadata": {},
     "output_type": "execute_result"
    }
   ],
   "source": [
    "erps"
   ]
  },
  {
   "cell_type": "code",
   "execution_count": 24,
   "metadata": {},
   "outputs": [
    {
     "name": "stdout",
     "output_type": "stream",
     "text": [
      "Best score for data1: 0.6\n",
      "Best C: 0.1\n",
      "Best Kernel: rbf\n",
      "Best Gamma: 0.1\n",
      "[mean: 0.54444, std: 0.05250, params: {'kernel': 'rbf', 'C': 0.1, 'gamma': 1},\n",
      " mean: 0.60000, std: 0.12916, params: {'kernel': 'rbf', 'C': 0.1, 'gamma': 0.1},\n",
      " mean: 0.55556, std: 0.10515, params: {'kernel': 'rbf', 'C': 0.1, 'gamma': 0.01},\n",
      " mean: 0.52222, std: 0.12600, params: {'kernel': 'rbf', 'C': 0.1, 'gamma': 0.001},\n",
      " mean: 0.48889, std: 0.06344, params: {'kernel': 'rbf', 'C': 0.1, 'gamma': 0.0001},\n",
      " mean: 0.48889, std: 0.03000, params: {'kernel': 'rbf', 'C': 0.1, 'gamma': 1e-05},\n",
      " mean: 0.50000, std: 0.09839, params: {'kernel': 'rbf', 'C': 1, 'gamma': 1},\n",
      " mean: 0.51111, std: 0.09290, params: {'kernel': 'rbf', 'C': 1, 'gamma': 0.1},\n",
      " mean: 0.57778, std: 0.06708, params: {'kernel': 'rbf', 'C': 1, 'gamma': 0.01},\n",
      " mean: 0.52222, std: 0.12600, params: {'kernel': 'rbf', 'C': 1, 'gamma': 0.001},\n",
      " mean: 0.48889, std: 0.06344, params: {'kernel': 'rbf', 'C': 1, 'gamma': 0.0001},\n",
      " mean: 0.48889, std: 0.03000, params: {'kernel': 'rbf', 'C': 1, 'gamma': 1e-05},\n",
      " mean: 0.51111, std: 0.09290, params: {'kernel': 'rbf', 'C': 10, 'gamma': 1},\n",
      " mean: 0.52222, std: 0.14629, params: {'kernel': 'rbf', 'C': 10, 'gamma': 0.1},\n",
      " mean: 0.50000, std: 0.15620, params: {'kernel': 'rbf', 'C': 10, 'gamma': 0.01},\n",
      " mean: 0.53333, std: 0.10712, params: {'kernel': 'rbf', 'C': 10, 'gamma': 0.001},\n",
      " mean: 0.48889, std: 0.06344, params: {'kernel': 'rbf', 'C': 10, 'gamma': 0.0001},\n",
      " mean: 0.48889, std: 0.03000, params: {'kernel': 'rbf', 'C': 10, 'gamma': 1e-05},\n",
      " mean: 0.51111, std: 0.09290, params: {'kernel': 'rbf', 'C': 100, 'gamma': 1},\n",
      " mean: 0.50000, std: 0.13786, params: {'kernel': 'rbf', 'C': 100, 'gamma': 0.1},\n",
      " mean: 0.48889, std: 0.15922, params: {'kernel': 'rbf', 'C': 100, 'gamma': 0.01},\n",
      " mean: 0.43333, std: 0.14142, params: {'kernel': 'rbf', 'C': 100, 'gamma': 0.001},\n",
      " mean: 0.52222, std: 0.14100, params: {'kernel': 'rbf', 'C': 100, 'gamma': 0.0001},\n",
      " mean: 0.48889, std: 0.03000, params: {'kernel': 'rbf', 'C': 100, 'gamma': 1e-05},\n",
      " mean: 0.51111, std: 0.09290, params: {'kernel': 'rbf', 'C': 1000, 'gamma': 1},\n",
      " mean: 0.50000, std: 0.13786, params: {'kernel': 'rbf', 'C': 1000, 'gamma': 0.1},\n",
      " mean: 0.51111, std: 0.07420, params: {'kernel': 'rbf', 'C': 1000, 'gamma': 0.01},\n",
      " mean: 0.41111, std: 0.11779, params: {'kernel': 'rbf', 'C': 1000, 'gamma': 0.001},\n",
      " mean: 0.43333, std: 0.13344, params: {'kernel': 'rbf', 'C': 1000, 'gamma': 0.0001},\n",
      " mean: 0.53333, std: 0.14294, params: {'kernel': 'rbf', 'C': 1000, 'gamma': 1e-05},\n",
      " mean: 0.51111, std: 0.09290, params: {'kernel': 'rbf', 'C': 10000, 'gamma': 1},\n",
      " mean: 0.50000, std: 0.13786, params: {'kernel': 'rbf', 'C': 10000, 'gamma': 0.1},\n",
      " mean: 0.50000, std: 0.06750, params: {'kernel': 'rbf', 'C': 10000, 'gamma': 0.01},\n",
      " mean: 0.43333, std: 0.14851, params: {'kernel': 'rbf', 'C': 10000, 'gamma': 0.001},\n",
      " mean: 0.40000, std: 0.09814, params: {'kernel': 'rbf', 'C': 10000, 'gamma': 0.0001},\n",
      " mean: 0.43333, std: 0.13344, params: {'kernel': 'rbf', 'C': 10000, 'gamma': 1e-05},\n",
      " mean: 0.41111, std: 0.10296, params: {'C': 1, 'kernel': 'linear'},\n",
      " mean: 0.36667, std: 0.08602, params: {'C': 10, 'kernel': 'linear'},\n",
      " mean: 0.45556, std: 0.13266, params: {'C': 100, 'kernel': 'linear'},\n",
      " mean: 0.46667, std: 0.15898, params: {'C': 1000, 'kernel': 'linear'}]\n"
     ]
    },
    {
     "name": "stderr",
     "output_type": "stream",
     "text": [
      "/usr/local/lib/python3.5/dist-packages/sklearn/model_selection/_search.py:761: DeprecationWarning: The grid_scores_ attribute was deprecated in version 0.18 in favor of the more elaborate cv_results_ attribute. The grid_scores_ attribute will not be available from 0.20\n",
      "  DeprecationWarning)\n"
     ]
    }
   ],
   "source": [
    "grid_search_SVM(erps)"
   ]
  },
  {
   "cell_type": "code",
   "execution_count": null,
   "metadata": {},
   "outputs": [],
   "source": []
  }
 ],
 "metadata": {
  "kernelspec": {
   "display_name": "Python 3",
   "language": "python",
   "name": "python3"
  },
  "language_info": {
   "codemirror_mode": {
    "name": "ipython",
    "version": 3
   },
   "file_extension": ".py",
   "mimetype": "text/x-python",
   "name": "python",
   "nbconvert_exporter": "python",
   "pygments_lexer": "ipython3",
   "version": "3.5.2"
  }
 },
 "nbformat": 4,
 "nbformat_minor": 2
}
